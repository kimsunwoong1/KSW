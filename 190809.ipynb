{
 "cells": [
  {
   "cell_type": "markdown",
   "metadata": {},
   "source": [
    "DATE : 2019.08.09"
   ]
  },
  {
   "cell_type": "markdown",
   "metadata": {},
   "source": [
    "#### · 차례\n",
    "1. 소개  \n",
    "    1.1. 프로그래밍을 왜 할까?      \n",
    "    1.2. 컴퓨터의 내부 구조  \n",
    "    1.3. 언어로써 파이썬  \n",
    "    1.4. 예약어, 순차문, 조건문 및 반복문      \n",
    "    1.5. 실습      \n",
    "    1.6. 퀴즈\n",
    "    \n",
    "\n",
    "2. 변수, 표현식 및 코드  \n",
    "    2.1. 변수, 표현식, 문장  \n",
    "    2.2. 연산자, 데이터 타입 및 타입 변환  \n",
    "    2.3. 실습  \n",
    "    2.4. 퀴즈"
   ]
  },
  {
   "cell_type": "markdown",
   "metadata": {},
   "source": [
    "\n",
    "\n",
    "\n"
   ]
  },
  {
   "cell_type": "markdown",
   "metadata": {},
   "source": [
    "\n",
    "\n"
   ]
  },
  {
   "cell_type": "markdown",
   "metadata": {},
   "source": [
    "# 1. 소개\n",
    "\n",
    "## 1.1. 프로그래밍을 왜 할까?"
   ]
  }
 ],
 "metadata": {
  "kernelspec": {
   "display_name": "Python 3",
   "language": "python",
   "name": "python3"
  },
  "language_info": {
   "codemirror_mode": {
    "name": "ipython",
    "version": 3
   },
   "file_extension": ".py",
   "mimetype": "text/x-python",
   "name": "python",
   "nbconvert_exporter": "python",
   "pygments_lexer": "ipython3",
   "version": "3.6.8"
  }
 },
 "nbformat": 4,
 "nbformat_minor": 2
}
