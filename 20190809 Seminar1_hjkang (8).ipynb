{
 "cells": [
  {
   "cell_type": "markdown",
   "metadata": {},
   "source": [
    "Chapter 3\n",
    "==========\n",
    "Conditional execution (조건문 실행)\n",
    "=========="
   ]
  },
  {
   "cell_type": "markdown",
   "metadata": {},
   "source": [
    "\n",
    "### Contents\n",
    "\n",
    "1. 비교 연산자\n",
    "2. 분기 \n",
    " - 한 갈래 분기 (if 문) \n",
    " - 중첩된 분기\n",
    " - 두 갈래 분기 (else 포함)\n",
    " - 여러갈래 분기 (elif 포함)\n",
    "3. 위험한 코드 처리를 위한 try/except 구조\n",
    " \n",
    " - Exercise\n",
    " - Quiz"
   ]
  },
  {
   "cell_type": "markdown",
   "metadata": {},
   "source": [
    "## 1. 비교 연산자"
   ]
  },
  {
   "cell_type": "code",
   "execution_count": 11,
   "metadata": {},
   "outputs": [
    {
     "name": "stdout",
     "output_type": "stream",
     "text": [
      "Equals 5\n",
      "Greater than 4\n",
      "Greater than or Eauals 5\n",
      "Less than 6\n",
      "Less than or Equals 5\n",
      "Not equal 6\n"
     ]
    }
   ],
   "source": [
    "x = 5\n",
    "if x == 5 :\n",
    "    print('Equals 5')\n",
    "if x > 4 :\n",
    "    print('Greater than 4')\n",
    "if x >= 5 :\n",
    "    print('Greater than or Eauals 5')\n",
    "if x < 6 : print('Less than 6')\n",
    "if x <= 5 :\n",
    "    print('Less than or Equals 5')\n",
    "if x != 6 :\n",
    "    print('Not equal 6')"
   ]
  },
  {
   "cell_type": "markdown",
   "metadata": {},
   "source": [
    "##  2_1. 한 갈래 분기 (if 문)"
   ]
  },
  {
   "cell_type": "code",
   "execution_count": 12,
   "metadata": {},
   "outputs": [
    {
     "name": "stdout",
     "output_type": "stream",
     "text": [
      "Before 5\n",
      "Is 5\n",
      "Is Still 5\n",
      "Third 5\n",
      "Afterwards 5\n",
      "Before 6\n",
      "Afterwards 6\n"
     ]
    }
   ],
   "source": [
    "x = 5\n",
    "print('Before 5')\n",
    "if x == 5 :\n",
    "    print('Is 5')\n",
    "    print('Is Still 5')\n",
    "    print('Third 5')\n",
    "print('Afterwards 5')\n",
    "print('Before 6')\n",
    "if x == 6 :\n",
    "    print('Is 6')\n",
    "    print('Is Still 6')\n",
    "    print('Third 6')\n",
    "print('Afterwards 6')"
   ]
  },
  {
   "cell_type": "markdown",
   "metadata": {},
   "source": [
    "### * 들여쓰기\n",
    "* if문, for문 (:) 다음에 들여쓰기를 함\n",
    "* 들여쓰기를 유지해서 블록의 범위를 표시\n",
    "* 내어쓰기를 해서 볼록의 끝을 표시"
   ]
  },
  {
   "cell_type": "markdown",
   "metadata": {},
   "source": [
    "- 4 space = 1 들여쓰기\n",
    "- 8 space = 2 들여쓰기"
   ]
  },
  {
   "cell_type": "markdown",
   "metadata": {},
   "source": [
    "### * 탭을 끄자!"
   ]
  },
  {
   "cell_type": "markdown",
   "metadata": {},
   "source": [
    "### * 볼록의 시작과 끝"
   ]
  },
  {
   "cell_type": "code",
   "execution_count": 3,
   "metadata": {},
   "outputs": [
    {
     "name": "stdout",
     "output_type": "stream",
     "text": [
      "Bigger than 2\n",
      "Still bigger\n",
      "Done with 2\n",
      "0\n",
      "Done with i 0\n",
      "1\n",
      "Done with i 1\n",
      "2\n",
      "Done with i 2\n",
      "3\n",
      "Bigger than 2\n",
      "Done with i 3\n",
      "4\n",
      "Bigger than 2\n",
      "Done with i 4\n",
      "All Done\n"
     ]
    }
   ],
   "source": [
    "x = 5\n",
    "if x > 2 :\n",
    "    print('Bigger than 2')\n",
    "    print('Still bigger')\n",
    "print('Done with 2')\n",
    "\n",
    "for i in range(5) :\n",
    "    print(i)\n",
    "    if i > 2 :\n",
    "        print('Bigger than 2')\n",
    "    print('Done with i',i)\n",
    "print('All Done')"
   ]
  },
  {
   "cell_type": "markdown",
   "metadata": {},
   "source": [
    "## 2_2. 중첩된 분기"
   ]
  },
  {
   "cell_type": "code",
   "execution_count": 4,
   "metadata": {},
   "outputs": [
    {
     "name": "stdout",
     "output_type": "stream",
     "text": [
      "More than one\n",
      "Less than 100\n",
      "All done\n"
     ]
    }
   ],
   "source": [
    "x = 42\n",
    "if x > 1 :\n",
    "    print('More than one')\n",
    "    if x < 100 :\n",
    "        print('Less than 100')\n",
    "print('All done')"
   ]
  },
  {
   "cell_type": "markdown",
   "metadata": {},
   "source": [
    "## 2_3. 두 갈래 분기 (else 포함)\n",
    "* 논리식이 참일 때와 거짓일 때 각각 다른 일을 한다.\n",
    "* 갈림길과 같이 둘 중 하나만 선택할 수 있다. (동시 X)"
   ]
  },
  {
   "cell_type": "code",
   "execution_count": 6,
   "metadata": {},
   "outputs": [
    {
     "name": "stdout",
     "output_type": "stream",
     "text": [
      "Bigger\n",
      "All done\n"
     ]
    }
   ],
   "source": [
    "x = 4\n",
    "\n",
    "if x > 2 :\n",
    "    print('Bigger')\n",
    "else :\n",
    "    print('Smaller')\n",
    "    \n",
    "print('All done')"
   ]
  },
  {
   "cell_type": "markdown",
   "metadata": {},
   "source": [
    "## 2_4. 여러 갈래 (elif 포함)"
   ]
  },
  {
   "cell_type": "code",
   "execution_count": 19,
   "metadata": {},
   "outputs": [
    {
     "name": "stdout",
     "output_type": "stream",
     "text": [
      "small\n",
      "All done\n"
     ]
    }
   ],
   "source": [
    "x = 0    #0,5,20 check\n",
    "if x < 2 :\n",
    "    print('small')\n",
    "elif x < 10 :\n",
    "    print('Medium')\n",
    "else :\n",
    "    print('LARGE')\n",
    "print('All done')"
   ]
  },
  {
   "cell_type": "markdown",
   "metadata": {},
   "source": [
    "* 첫 번재 질문이 참이면 끝!\n",
    "* 첫 번째 질문이 거짓일 때까지 두번째 질문 확인 X\n",
    "\n",
    "* 하나는 실행된다!\n",
    "* 질문은 순서대로 확인한다!\n",
    "* 만약 else가 없다면 아무 부분도 실행되지 않는다."
   ]
  },
  {
   "cell_type": "code",
   "execution_count": 22,
   "metadata": {},
   "outputs": [
    {
     "name": "stdout",
     "output_type": "stream",
     "text": [
      "Medium\n",
      "All done\n"
     ]
    }
   ],
   "source": [
    "# No Else\n",
    "x = 5\n",
    "if x < 2 :\n",
    "    print('Small')\n",
    "elif x < 10 : \n",
    "    print('Medium')\n",
    "    \n",
    "print('All done')"
   ]
  },
  {
   "cell_type": "code",
   "execution_count": 21,
   "metadata": {},
   "outputs": [
    {
     "name": "stdout",
     "output_type": "stream",
     "text": [
      "Medium\n"
     ]
    }
   ],
   "source": [
    "x = 5\n",
    "if x < 2 :\n",
    "    print('Small')\n",
    "elif x < 10 :\n",
    "    print('Medium')\n",
    "elif x < 20 :\n",
    "    print('Big')\n",
    "elif x < 40 :\n",
    "    print('Large')\n",
    "elif x < 100 : \n",
    "    print('Huge')\n",
    "else :\n",
    "    print('Ginormous')"
   ]
  },
  {
   "cell_type": "markdown",
   "metadata": {},
   "source": [
    "### * x값과 상관없이 무엇이 출력?"
   ]
  },
  {
   "cell_type": "markdown",
   "metadata": {},
   "source": [
    "### ex1"
   ]
  },
  {
   "cell_type": "code",
   "execution_count": 23,
   "metadata": {},
   "outputs": [
    {
     "name": "stdout",
     "output_type": "stream",
     "text": [
      "Two or more\n"
     ]
    }
   ],
   "source": [
    "if x < 2 :\n",
    "    print('Below 2')\n",
    "elif x >= 2 :\n",
    "    print('Two or more')\n",
    "else :\n",
    "    print('Something else')    # 실행되지 않는 부분."
   ]
  },
  {
   "cell_type": "markdown",
   "metadata": {},
   "source": [
    "### ex2"
   ]
  },
  {
   "cell_type": "code",
   "execution_count": 24,
   "metadata": {},
   "outputs": [
    {
     "name": "stdout",
     "output_type": "stream",
     "text": [
      "Below 20\n"
     ]
    }
   ],
   "source": [
    "if x < 2 :\n",
    "    print('Below 2')\n",
    "elif x < 20 :\n",
    "    print('Below 20')\n",
    "elif x < 10 :\n",
    "    print('Below 10')    # 실행되지 않는 부분.\n",
    "else :\n",
    "    print('Something else')"
   ]
  },
  {
   "cell_type": "code",
   "execution_count": 25,
   "metadata": {},
   "outputs": [
    {
     "name": "stdout",
     "output_type": "stream",
     "text": [
      "Below 10\n"
     ]
    }
   ],
   "source": [
    "if x < 2 :\n",
    "    print('Below 2')\n",
    "elif x < 10 :\n",
    "    print('Below 10')\n",
    "elif x < 20 :\n",
    "    print('Below 20')\n",
    "else :\n",
    "    print('Something else')"
   ]
  },
  {
   "cell_type": "markdown",
   "metadata": {},
   "source": [
    "## 3. try / except 구조"
   ]
  },
  {
   "cell_type": "markdown",
   "metadata": {},
   "source": [
    "* 위험한 코드를 try/except 사용해 처리\n",
    "* 파이썬은 traceback error 발생 시 뭘 해야 할지 모른다!"
   ]
  },
  {
   "cell_type": "code",
   "execution_count": 26,
   "metadata": {},
   "outputs": [
    {
     "ename": "ValueError",
     "evalue": "invalid literal for int() with base 10: 'Hello Bob'",
     "output_type": "error",
     "traceback": [
      "\u001b[1;31m---------------------------------------------------------------------------\u001b[0m",
      "\u001b[1;31mValueError\u001b[0m                                Traceback (most recent call last)",
      "\u001b[1;32m<ipython-input-26-02d214fdb44d>\u001b[0m in \u001b[0;36m<module>\u001b[1;34m\u001b[0m\n\u001b[0;32m      1\u001b[0m \u001b[0mastr\u001b[0m \u001b[1;33m=\u001b[0m \u001b[1;34m'Hello Bob'\u001b[0m\u001b[1;33m\u001b[0m\u001b[1;33m\u001b[0m\u001b[0m\n\u001b[1;32m----> 2\u001b[1;33m \u001b[0mintr\u001b[0m \u001b[1;33m=\u001b[0m \u001b[0mint\u001b[0m\u001b[1;33m(\u001b[0m\u001b[0mastr\u001b[0m\u001b[1;33m)\u001b[0m\u001b[1;33m\u001b[0m\u001b[1;33m\u001b[0m\u001b[0m\n\u001b[0m\u001b[0;32m      3\u001b[0m \u001b[0mprint\u001b[0m\u001b[1;33m(\u001b[0m\u001b[1;34m'First'\u001b[0m\u001b[1;33m,\u001b[0m\u001b[0mistr\u001b[0m\u001b[1;33m)\u001b[0m\u001b[1;33m\u001b[0m\u001b[1;33m\u001b[0m\u001b[0m\n\u001b[0;32m      4\u001b[0m \u001b[0mastr\u001b[0m \u001b[1;33m=\u001b[0m \u001b[1;34m'123'\u001b[0m\u001b[1;33m\u001b[0m\u001b[1;33m\u001b[0m\u001b[0m\n\u001b[0;32m      5\u001b[0m \u001b[0mistr\u001b[0m \u001b[1;33m=\u001b[0m \u001b[0mint\u001b[0m\u001b[1;33m(\u001b[0m\u001b[0mastr\u001b[0m\u001b[1;33m)\u001b[0m\u001b[1;33m\u001b[0m\u001b[1;33m\u001b[0m\u001b[0m\n",
      "\u001b[1;31mValueError\u001b[0m: invalid literal for int() with base 10: 'Hello Bob'"
     ]
    }
   ],
   "source": [
    "astr = 'Hello Bob'\n",
    "intr = int(astr)\n",
    "print('First',istr)\n",
    "astr = '123'\n",
    "istr = int(astr)\n",
    "print('Second', istr)"
   ]
  },
  {
   "cell_type": "code",
   "execution_count": 27,
   "metadata": {},
   "outputs": [
    {
     "name": "stdout",
     "output_type": "stream",
     "text": [
      "First -1\n",
      "Second 123\n"
     ]
    }
   ],
   "source": [
    "astr = 'Hello Bob'\n",
    "try :\n",
    "    istr = int(astr)\n",
    "except :\n",
    "    istr = -1\n",
    "    \n",
    "print('First',istr)\n",
    "\n",
    "astr = '123'\n",
    "try :\n",
    "    istr = int(astr)\n",
    "except :\n",
    "    istr = -1\n",
    "    \n",
    "print('Second', istr)"
   ]
  },
  {
   "cell_type": "markdown",
   "metadata": {},
   "source": [
    "* 에러가 날 때, except가 나서서 무엇을 해야 할 지 알려주는 보험같은 것."
   ]
  },
  {
   "cell_type": "markdown",
   "metadata": {},
   "source": [
    "### ex1"
   ]
  },
  {
   "cell_type": "code",
   "execution_count": null,
   "metadata": {},
   "outputs": [],
   "source": [
    "astr = 'Bob'\n",
    "try :\n",
    "    print('Hello')\n",
    "    istr = int(astr)\n",
    "    print('There')\n",
    "except :\n",
    "    istr = -1\n",
    "    \n",
    "print('Done', istr)"
   ]
  },
  {
   "cell_type": "markdown",
   "metadata": {},
   "source": [
    "* 중단 될 것 같은 부분만 try 안에 입력하자."
   ]
  },
  {
   "cell_type": "markdown",
   "metadata": {},
   "source": [
    "### ex2"
   ]
  },
  {
   "cell_type": "code",
   "execution_count": 2,
   "metadata": {},
   "outputs": [
    {
     "name": "stdout",
     "output_type": "stream",
     "text": [
      "Enter a number:forty two\n",
      "Not a numer\n"
     ]
    }
   ],
   "source": [
    "rawstr = input('Enter a number:')    # 42, forty-two Check!\n",
    "try :\n",
    "    ival = int(rawstr)\n",
    "except :\n",
    "    ival = -1\n",
    "\n",
    "if ival > 0 :\n",
    "    print('Nice work')\n",
    "else :\n",
    "    print('Not a numer')"
   ]
  },
  {
   "cell_type": "markdown",
   "metadata": {},
   "source": [
    "## Exercise 1"
   ]
  },
  {
   "cell_type": "markdown",
   "metadata": {},
   "source": [
    "40시간 이상 일 할 경우 시급을 1.5배 더 종업원에게 지급하는 봉급계산 프로그램을 작성하세요."
   ]
  },
  {
   "cell_type": "code",
   "execution_count": 6,
   "metadata": {},
   "outputs": [
    {
     "name": "stdout",
     "output_type": "stream",
     "text": [
      "Enter Hours:40\n",
      "Enter Rate:10\n",
      "Pay: 400.0\n"
     ]
    }
   ],
   "source": [
    "sh=input(\"Enter Hours:\")\n",
    "sr=input(\"Enter Rate:\")\n",
    "fh=float(sh)\n",
    "fr=float(sr)\n",
    "#print(fh,fr)\n",
    "if fh>40 :\n",
    "    #print(\"Overtime\")\n",
    "    reg=fr*fh\n",
    "    otp=(fh-40.0)*(fr*0.5)\n",
    "    #print(reg,otp)\n",
    "    xp=reg+otp\n",
    "else:\n",
    "    #print(\"Regular\")\n",
    "    xp=fh*fr\n",
    "print(\"Pay:\",xp)"
   ]
  },
  {
   "cell_type": "markdown",
   "metadata": {},
   "source": [
    "## Exercise 2"
   ]
  },
  {
   "cell_type": "markdown",
   "metadata": {},
   "source": [
    "try, except를 사용하여 봉급계산 프로그램을 다시 작성하세요.\n",
    "\n",
    "숫자가 아닌 입력값을 잘 처리해서 숫자 아닌 입력값이 들어왔을 때 메시지를 출력하고\n",
    "\n",
    "정상적으로 프로그램을 종료하도록 합니다.\n",
    "\n",
    "다음 프로그램 출력 결과를 확인해보세요."
   ]
  },
  {
   "cell_type": "code",
   "execution_count": null,
   "metadata": {},
   "outputs": [],
   "source": [
    "Enter Hours: 20\n",
    "Enter Rate: nine\n",
    "Error, please enter numeric input\n",
    "\n",
    "Enter Hours: forty\n",
    "Error, please enter numeric input"
   ]
  },
  {
   "cell_type": "markdown",
   "metadata": {},
   "source": [
    "Sol"
   ]
  },
  {
   "cell_type": "code",
   "execution_count": 7,
   "metadata": {},
   "outputs": [
    {
     "name": "stdout",
     "output_type": "stream",
     "text": [
      "Enter Hours:20\n",
      "Enter Rate:nine\n",
      "Error, please enter numeric input\n",
      "20.0 10.0\n",
      "XYZ Pay: 200.0\n"
     ]
    }
   ],
   "source": [
    "sh=input(\"Enter Hours:\")\n",
    "sr=input(\"Enter Rate:\")\n",
    "try:\n",
    "    fh=float(sh)\n",
    "    fr=float(sr)\n",
    "except:\n",
    "    print(\"Error, please enter numeric input\")\n",
    "    quit()\n",
    "\n",
    "print(fh,fr)\n",
    "if fh>40 :\n",
    "    #print(\"Overtime\")\n",
    "    reg=fr*fh\n",
    "    otp=(fh-40.0)*(fr*0.5)\n",
    "    #print(reg,otp)\n",
    "    xp=reg+otp\n",
    "else:\n",
    "    #print(\"Regular\")\n",
    "    xp=fh*fr\n",
    "print(\"XYZ Pay:\",xp)"
   ]
  },
  {
   "cell_type": "markdown",
   "metadata": {},
   "source": [
    "## Exercise 3"
   ]
  },
  {
   "cell_type": "markdown",
   "metadata": {},
   "source": [
    "0.0과 1.0 사이의 점수를 출력하는 프로그램을 작성하세요.\n",
    "\n",
    "만약 점수가 범위 밖이면 오류를 출력합니다.\n",
    "\n",
    "만약 점수가 0.0과 1.0 사이라면, 다음의 테이블에 따라 등급을 출력합니다."
   ]
  },
  {
   "cell_type": "code",
   "execution_count": null,
   "metadata": {},
   "outputs": [],
   "source": [
    "Score    Grade\n",
    ">= 0.9    A\n",
    ">= 0.8    B\n",
    ">= 0.7    C\n",
    ">= 0.6    D\n",
    "< 0.6    F"
   ]
  },
  {
   "cell_type": "code",
   "execution_count": null,
   "metadata": {},
   "outputs": [],
   "source": [
    "Enter score: 0.95\n",
    "A\n",
    "\n",
    "Enter scorer: perfect\n",
    "Bad score\n",
    "\n",
    "Enter scorer: 10.0\n",
    "Bad score\n",
    "\n",
    "Enter scorer: 0.75\n",
    "C\n",
    "\n",
    "Enter scorer: 0.5\n",
    "F"
   ]
  },
  {
   "cell_type": "markdown",
   "metadata": {},
   "source": [
    "Sol"
   ]
  },
  {
   "cell_type": "code",
   "execution_count": null,
   "metadata": {},
   "outputs": [
    {
     "name": "stdout",
     "output_type": "stream",
     "text": [
      "Enter score: 0.75\n",
      "C\n",
      "Enter score: 0.5\n",
      "F\n"
     ]
    }
   ],
   "source": [
    "while(True) : \n",
    "    try:   \n",
    "        score = float(input('Enter score: '))\n",
    "        if score >= 0.0 and score <= 1.0:\n",
    "            if score >= 0.9 :\n",
    "                print(\"A\")\n",
    "            elif score >= 0.8 :\n",
    "                print(\"B\")\n",
    "            elif score >= 0.7 :\n",
    "                print(\"C\")\n",
    "            elif score >= 0.6 :\n",
    "                print(\"D\")\n",
    "            else :\n",
    "                print(\"F\")\n",
    "        else :\n",
    "            print(\"Bad score\")\n",
    "    except:\n",
    "        print('Bad score')"
   ]
  },
  {
   "cell_type": "markdown",
   "metadata": {},
   "source": [
    "## Quiz1"
   ]
  },
  {
   "cell_type": "markdown",
   "metadata": {},
   "source": [
    "다음 중 출력되는 값은 무엇인가요?"
   ]
  },
  {
   "cell_type": "code",
   "execution_count": 1,
   "metadata": {
    "collapsed": true
   },
   "outputs": [
    {
     "name": "stdout",
     "output_type": "stream",
     "text": [
      "super\n"
     ]
    }
   ],
   "source": [
    "x = 29\n",
    "\n",
    "if x < 10 :\n",
    "    print(\"small\")\n",
    "elif x < 20 :\n",
    "    print(\"medium\")\n",
    "elif x < 40 :\n",
    "    print(\"super\")\n",
    "elif x < 30 :\n",
    "    print(\"large\")\n",
    "else :\n",
    "    print(\"Super large\")"
   ]
  },
  {
   "cell_type": "markdown",
   "metadata": {},
   "source": [
    "## Quiz2"
   ]
  },
  {
   "cell_type": "markdown",
   "metadata": {},
   "source": [
    "x에 어떠한 값을 넣더라도 다음 중 절대 출력되지 않는 문자열은? "
   ]
  },
  {
   "cell_type": "code",
   "execution_count": 2,
   "metadata": {
    "collapsed": true
   },
   "outputs": [
    {
     "name": "stdout",
     "output_type": "stream",
     "text": [
      "World\n"
     ]
    }
   ],
   "source": [
    "if x < 10 :\n",
    "    print(\"Hello\")\n",
    "elif x < 20 :\n",
    "    print(\"Connect\")\n",
    "elif x < 40 :\n",
    "    print(\"World\")\n",
    "elif x < 30 :\n",
    "    print(\"Best\")\n",
    "else :\n",
    "    print(\"Done\")"
   ]
  },
  {
   "cell_type": "markdown",
   "metadata": {},
   "source": [
    "# 감사합니다!"
   ]
  }
 ],
 "metadata": {
  "kernelspec": {
   "display_name": "Python 3",
   "language": "python",
   "name": "python3"
  },
  "language_info": {
   "codemirror_mode": {
    "name": "ipython",
    "version": 3
   },
   "file_extension": ".py",
   "mimetype": "text/x-python",
   "name": "python",
   "nbconvert_exporter": "python",
   "pygments_lexer": "ipython3",
   "version": "3.6.8"
  }
 },
 "nbformat": 4,
 "nbformat_minor": 2
}
